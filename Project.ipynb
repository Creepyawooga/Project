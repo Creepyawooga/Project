{
  "nbformat": 4,
  "nbformat_minor": 0,
  "metadata": {
    "colab": {
      "provenance": [],
      "toc_visible": true,
      "mount_file_id": "19IhtYKLwdKkeMw4OayfkcKIlHmSRe4ak",
      "authorship_tag": "ABX9TyPlErYL/9vmqstI6ymdZgoc",
      "include_colab_link": true
    },
    "kernelspec": {
      "name": "python3",
      "display_name": "Python 3"
    },
    "language_info": {
      "name": "python"
    }
  },
  "cells": [
    {
      "cell_type": "markdown",
      "metadata": {
        "id": "view-in-github",
        "colab_type": "text"
      },
      "source": [
        "<a href=\"https://colab.research.google.com/github/Creepyawooga/Project/blob/main/Project.ipynb\" target=\"_parent\"><img src=\"https://colab.research.google.com/assets/colab-badge.svg\" alt=\"Open In Colab\"/></a>"
      ]
    },
    {
      "cell_type": "code",
      "source": [
        "from google.colab import drive\n",
        "drive.mount('/content/drive')\n"
      ],
      "metadata": {
        "colab": {
          "base_uri": "https://localhost:8080/"
        },
        "id": "oJmNd8rE6fL8",
        "outputId": "f73b27db-fa49-4026-a09a-e973c25e6754"
      },
      "execution_count": 34,
      "outputs": [
        {
          "output_type": "stream",
          "name": "stdout",
          "text": [
            "Drive already mounted at /content/drive; to attempt to forcibly remount, call drive.mount(\"/content/drive\", force_remount=True).\n"
          ]
        }
      ]
    },
    {
      "cell_type": "code",
      "source": [
        "import os\n",
        "\n",
        "dataset_path = '/content/drive/My Drive/dataset'\n"
      ],
      "metadata": {
        "id": "UMRyZSeq6oZW"
      },
      "execution_count": 35,
      "outputs": []
    },
    {
      "cell_type": "markdown",
      "source": [],
      "metadata": {
        "id": "XuNeG1vH6oAF"
      }
    },
    {
      "cell_type": "code",
      "execution_count": 3,
      "metadata": {
        "colab": {
          "base_uri": "https://localhost:8080/"
        },
        "id": "r-O9YRAvjSCI",
        "outputId": "ae616219-fccb-47f6-8368-562f5c13b649"
      },
      "outputs": [
        {
          "output_type": "stream",
          "name": "stdout",
          "text": [
            "Requirement already satisfied: tensorflow in /usr/local/lib/python3.10/dist-packages (2.15.0)\n",
            "Requirement already satisfied: keras in /usr/local/lib/python3.10/dist-packages (2.15.0)\n",
            "Requirement already satisfied: opencv-python in /usr/local/lib/python3.10/dist-packages (4.8.0.76)\n",
            "Collecting streamlit\n",
            "  Downloading streamlit-1.36.0-py2.py3-none-any.whl (8.6 MB)\n",
            "\u001b[2K     \u001b[90m━━━━━━━━━━━━━━━━━━━━━━━━━━━━━━━━━━━━━━━━\u001b[0m \u001b[32m8.6/8.6 MB\u001b[0m \u001b[31m17.2 MB/s\u001b[0m eta \u001b[36m0:00:00\u001b[0m\n",
            "\u001b[?25hRequirement already satisfied: absl-py>=1.0.0 in /usr/local/lib/python3.10/dist-packages (from tensorflow) (1.4.0)\n",
            "Requirement already satisfied: astunparse>=1.6.0 in /usr/local/lib/python3.10/dist-packages (from tensorflow) (1.6.3)\n",
            "Requirement already satisfied: flatbuffers>=23.5.26 in /usr/local/lib/python3.10/dist-packages (from tensorflow) (24.3.25)\n",
            "Requirement already satisfied: gast!=0.5.0,!=0.5.1,!=0.5.2,>=0.2.1 in /usr/local/lib/python3.10/dist-packages (from tensorflow) (0.6.0)\n",
            "Requirement already satisfied: google-pasta>=0.1.1 in /usr/local/lib/python3.10/dist-packages (from tensorflow) (0.2.0)\n",
            "Requirement already satisfied: h5py>=2.9.0 in /usr/local/lib/python3.10/dist-packages (from tensorflow) (3.9.0)\n",
            "Requirement already satisfied: libclang>=13.0.0 in /usr/local/lib/python3.10/dist-packages (from tensorflow) (18.1.1)\n",
            "Requirement already satisfied: ml-dtypes~=0.2.0 in /usr/local/lib/python3.10/dist-packages (from tensorflow) (0.2.0)\n",
            "Requirement already satisfied: numpy<2.0.0,>=1.23.5 in /usr/local/lib/python3.10/dist-packages (from tensorflow) (1.25.2)\n",
            "Requirement already satisfied: opt-einsum>=2.3.2 in /usr/local/lib/python3.10/dist-packages (from tensorflow) (3.3.0)\n",
            "Requirement already satisfied: packaging in /usr/local/lib/python3.10/dist-packages (from tensorflow) (24.1)\n",
            "Requirement already satisfied: protobuf!=4.21.0,!=4.21.1,!=4.21.2,!=4.21.3,!=4.21.4,!=4.21.5,<5.0.0dev,>=3.20.3 in /usr/local/lib/python3.10/dist-packages (from tensorflow) (3.20.3)\n",
            "Requirement already satisfied: setuptools in /usr/local/lib/python3.10/dist-packages (from tensorflow) (67.7.2)\n",
            "Requirement already satisfied: six>=1.12.0 in /usr/local/lib/python3.10/dist-packages (from tensorflow) (1.16.0)\n",
            "Requirement already satisfied: termcolor>=1.1.0 in /usr/local/lib/python3.10/dist-packages (from tensorflow) (2.4.0)\n",
            "Requirement already satisfied: typing-extensions>=3.6.6 in /usr/local/lib/python3.10/dist-packages (from tensorflow) (4.12.2)\n",
            "Requirement already satisfied: wrapt<1.15,>=1.11.0 in /usr/local/lib/python3.10/dist-packages (from tensorflow) (1.14.1)\n",
            "Requirement already satisfied: tensorflow-io-gcs-filesystem>=0.23.1 in /usr/local/lib/python3.10/dist-packages (from tensorflow) (0.37.0)\n",
            "Requirement already satisfied: grpcio<2.0,>=1.24.3 in /usr/local/lib/python3.10/dist-packages (from tensorflow) (1.64.1)\n",
            "Requirement already satisfied: tensorboard<2.16,>=2.15 in /usr/local/lib/python3.10/dist-packages (from tensorflow) (2.15.2)\n",
            "Requirement already satisfied: tensorflow-estimator<2.16,>=2.15.0 in /usr/local/lib/python3.10/dist-packages (from tensorflow) (2.15.0)\n",
            "Requirement already satisfied: altair<6,>=4.0 in /usr/local/lib/python3.10/dist-packages (from streamlit) (4.2.2)\n",
            "Requirement already satisfied: blinker<2,>=1.0.0 in /usr/lib/python3/dist-packages (from streamlit) (1.4)\n",
            "Requirement already satisfied: cachetools<6,>=4.0 in /usr/local/lib/python3.10/dist-packages (from streamlit) (5.3.3)\n",
            "Requirement already satisfied: click<9,>=7.0 in /usr/local/lib/python3.10/dist-packages (from streamlit) (8.1.7)\n",
            "Requirement already satisfied: pandas<3,>=1.3.0 in /usr/local/lib/python3.10/dist-packages (from streamlit) (2.0.3)\n",
            "Requirement already satisfied: pillow<11,>=7.1.0 in /usr/local/lib/python3.10/dist-packages (from streamlit) (9.4.0)\n",
            "Requirement already satisfied: pyarrow>=7.0 in /usr/local/lib/python3.10/dist-packages (from streamlit) (14.0.2)\n",
            "Requirement already satisfied: requests<3,>=2.27 in /usr/local/lib/python3.10/dist-packages (from streamlit) (2.31.0)\n",
            "Requirement already satisfied: rich<14,>=10.14.0 in /usr/local/lib/python3.10/dist-packages (from streamlit) (13.7.1)\n",
            "Requirement already satisfied: tenacity<9,>=8.1.0 in /usr/local/lib/python3.10/dist-packages (from streamlit) (8.4.2)\n",
            "Requirement already satisfied: toml<2,>=0.10.1 in /usr/local/lib/python3.10/dist-packages (from streamlit) (0.10.2)\n",
            "Collecting gitpython!=3.1.19,<4,>=3.0.7 (from streamlit)\n",
            "  Downloading GitPython-3.1.43-py3-none-any.whl (207 kB)\n",
            "\u001b[2K     \u001b[90m━━━━━━━━━━━━━━━━━━━━━━━━━━━━━━━━━━━━━━━━\u001b[0m \u001b[32m207.3/207.3 kB\u001b[0m \u001b[31m8.5 MB/s\u001b[0m eta \u001b[36m0:00:00\u001b[0m\n",
            "\u001b[?25hCollecting pydeck<1,>=0.8.0b4 (from streamlit)\n",
            "  Downloading pydeck-0.9.1-py2.py3-none-any.whl (6.9 MB)\n",
            "\u001b[2K     \u001b[90m━━━━━━━━━━━━━━━━━━━━━━━━━━━━━━━━━━━━━━━━\u001b[0m \u001b[32m6.9/6.9 MB\u001b[0m \u001b[31m15.1 MB/s\u001b[0m eta \u001b[36m0:00:00\u001b[0m\n",
            "\u001b[?25hRequirement already satisfied: tornado<7,>=6.0.3 in /usr/local/lib/python3.10/dist-packages (from streamlit) (6.3.3)\n",
            "Collecting watchdog<5,>=2.1.5 (from streamlit)\n",
            "  Downloading watchdog-4.0.1-py3-none-manylinux2014_x86_64.whl (83 kB)\n",
            "\u001b[2K     \u001b[90m━━━━━━━━━━━━━━━━━━━━━━━━━━━━━━━━━━━━━━━━\u001b[0m \u001b[32m83.0/83.0 kB\u001b[0m \u001b[31m9.5 MB/s\u001b[0m eta \u001b[36m0:00:00\u001b[0m\n",
            "\u001b[?25hRequirement already satisfied: entrypoints in /usr/local/lib/python3.10/dist-packages (from altair<6,>=4.0->streamlit) (0.4)\n",
            "Requirement already satisfied: jinja2 in /usr/local/lib/python3.10/dist-packages (from altair<6,>=4.0->streamlit) (3.1.4)\n",
            "Requirement already satisfied: jsonschema>=3.0 in /usr/local/lib/python3.10/dist-packages (from altair<6,>=4.0->streamlit) (4.19.2)\n",
            "Requirement already satisfied: toolz in /usr/local/lib/python3.10/dist-packages (from altair<6,>=4.0->streamlit) (0.12.1)\n",
            "Requirement already satisfied: wheel<1.0,>=0.23.0 in /usr/local/lib/python3.10/dist-packages (from astunparse>=1.6.0->tensorflow) (0.43.0)\n",
            "Collecting gitdb<5,>=4.0.1 (from gitpython!=3.1.19,<4,>=3.0.7->streamlit)\n",
            "  Downloading gitdb-4.0.11-py3-none-any.whl (62 kB)\n",
            "\u001b[2K     \u001b[90m━━━━━━━━━━━━━━━━━━━━━━━━━━━━━━━━━━━━━━━━\u001b[0m \u001b[32m62.7/62.7 kB\u001b[0m \u001b[31m378.7 kB/s\u001b[0m eta \u001b[36m0:00:00\u001b[0m\n",
            "\u001b[?25hRequirement already satisfied: python-dateutil>=2.8.2 in /usr/local/lib/python3.10/dist-packages (from pandas<3,>=1.3.0->streamlit) (2.8.2)\n",
            "Requirement already satisfied: pytz>=2020.1 in /usr/local/lib/python3.10/dist-packages (from pandas<3,>=1.3.0->streamlit) (2023.4)\n",
            "Requirement already satisfied: tzdata>=2022.1 in /usr/local/lib/python3.10/dist-packages (from pandas<3,>=1.3.0->streamlit) (2024.1)\n",
            "Requirement already satisfied: charset-normalizer<4,>=2 in /usr/local/lib/python3.10/dist-packages (from requests<3,>=2.27->streamlit) (3.3.2)\n",
            "Requirement already satisfied: idna<4,>=2.5 in /usr/local/lib/python3.10/dist-packages (from requests<3,>=2.27->streamlit) (3.7)\n",
            "Requirement already satisfied: urllib3<3,>=1.21.1 in /usr/local/lib/python3.10/dist-packages (from requests<3,>=2.27->streamlit) (2.0.7)\n",
            "Requirement already satisfied: certifi>=2017.4.17 in /usr/local/lib/python3.10/dist-packages (from requests<3,>=2.27->streamlit) (2024.6.2)\n",
            "Requirement already satisfied: markdown-it-py>=2.2.0 in /usr/local/lib/python3.10/dist-packages (from rich<14,>=10.14.0->streamlit) (3.0.0)\n",
            "Requirement already satisfied: pygments<3.0.0,>=2.13.0 in /usr/local/lib/python3.10/dist-packages (from rich<14,>=10.14.0->streamlit) (2.16.1)\n",
            "Requirement already satisfied: google-auth<3,>=1.6.3 in /usr/local/lib/python3.10/dist-packages (from tensorboard<2.16,>=2.15->tensorflow) (2.27.0)\n",
            "Requirement already satisfied: google-auth-oauthlib<2,>=0.5 in /usr/local/lib/python3.10/dist-packages (from tensorboard<2.16,>=2.15->tensorflow) (1.2.0)\n",
            "Requirement already satisfied: markdown>=2.6.8 in /usr/local/lib/python3.10/dist-packages (from tensorboard<2.16,>=2.15->tensorflow) (3.6)\n",
            "Requirement already satisfied: tensorboard-data-server<0.8.0,>=0.7.0 in /usr/local/lib/python3.10/dist-packages (from tensorboard<2.16,>=2.15->tensorflow) (0.7.2)\n",
            "Requirement already satisfied: werkzeug>=1.0.1 in /usr/local/lib/python3.10/dist-packages (from tensorboard<2.16,>=2.15->tensorflow) (3.0.3)\n",
            "Collecting smmap<6,>=3.0.1 (from gitdb<5,>=4.0.1->gitpython!=3.1.19,<4,>=3.0.7->streamlit)\n",
            "  Downloading smmap-5.0.1-py3-none-any.whl (24 kB)\n",
            "Requirement already satisfied: pyasn1-modules>=0.2.1 in /usr/local/lib/python3.10/dist-packages (from google-auth<3,>=1.6.3->tensorboard<2.16,>=2.15->tensorflow) (0.4.0)\n",
            "Requirement already satisfied: rsa<5,>=3.1.4 in /usr/local/lib/python3.10/dist-packages (from google-auth<3,>=1.6.3->tensorboard<2.16,>=2.15->tensorflow) (4.9)\n",
            "Requirement already satisfied: requests-oauthlib>=0.7.0 in /usr/local/lib/python3.10/dist-packages (from google-auth-oauthlib<2,>=0.5->tensorboard<2.16,>=2.15->tensorflow) (1.3.1)\n",
            "Requirement already satisfied: MarkupSafe>=2.0 in /usr/local/lib/python3.10/dist-packages (from jinja2->altair<6,>=4.0->streamlit) (2.1.5)\n",
            "Requirement already satisfied: attrs>=22.2.0 in /usr/local/lib/python3.10/dist-packages (from jsonschema>=3.0->altair<6,>=4.0->streamlit) (23.2.0)\n",
            "Requirement already satisfied: jsonschema-specifications>=2023.03.6 in /usr/local/lib/python3.10/dist-packages (from jsonschema>=3.0->altair<6,>=4.0->streamlit) (2023.12.1)\n",
            "Requirement already satisfied: referencing>=0.28.4 in /usr/local/lib/python3.10/dist-packages (from jsonschema>=3.0->altair<6,>=4.0->streamlit) (0.35.1)\n",
            "Requirement already satisfied: rpds-py>=0.7.1 in /usr/local/lib/python3.10/dist-packages (from jsonschema>=3.0->altair<6,>=4.0->streamlit) (0.18.1)\n",
            "Requirement already satisfied: mdurl~=0.1 in /usr/local/lib/python3.10/dist-packages (from markdown-it-py>=2.2.0->rich<14,>=10.14.0->streamlit) (0.1.2)\n",
            "Requirement already satisfied: pyasn1<0.7.0,>=0.4.6 in /usr/local/lib/python3.10/dist-packages (from pyasn1-modules>=0.2.1->google-auth<3,>=1.6.3->tensorboard<2.16,>=2.15->tensorflow) (0.6.0)\n",
            "Requirement already satisfied: oauthlib>=3.0.0 in /usr/local/lib/python3.10/dist-packages (from requests-oauthlib>=0.7.0->google-auth-oauthlib<2,>=0.5->tensorboard<2.16,>=2.15->tensorflow) (3.2.2)\n",
            "Installing collected packages: watchdog, smmap, pydeck, gitdb, gitpython, streamlit\n",
            "Successfully installed gitdb-4.0.11 gitpython-3.1.43 pydeck-0.9.1 smmap-5.0.1 streamlit-1.36.0 watchdog-4.0.1\n"
          ]
        }
      ],
      "source": [
        "!pip install tensorflow keras opencv-python streamlit\n"
      ]
    },
    {
      "cell_type": "code",
      "source": [
        "import cv2\n",
        "import numpy as np\n",
        "import os\n",
        "from sklearn.preprocessing import LabelEncoder\n",
        "from tensorflow.keras.utils import to_categorical\n",
        "from tensorflow.keras.models import Sequential\n",
        "from tensorflow.keras.layers import Dense, Conv2D, Flatten, MaxPooling2D, Dropout, GlobalAveragePooling2D\n",
        "\n",
        "def preprocess_image(image_path, target_size=(128, 128)):\n",
        "    try:\n",
        "        image = cv2.imread(image_path)\n",
        "        if image is None:\n",
        "            print(f\"Failed to load image {image_path}.\")\n",
        "            return None\n",
        "        image = cv2.resize(image, target_size)\n",
        "        image = image / 255.0  # Нормализация\n",
        "        return image\n",
        "    except Exception as e:\n",
        "        print(f\"Error processing image {image_path}: {e}\")\n",
        "        return None\n",
        "\n",
        "def load_images_from_folder(folder):\n",
        "    images = []\n",
        "    labels = []\n",
        "    label = folder.split('/')[-1]  # Название папки - метка\n",
        "    for filename in os.listdir(folder):\n",
        "        img_path = os.path.join(folder, filename)\n",
        "        img = preprocess_image(img_path)\n",
        "        if img is not None:\n",
        "            images.append(img)\n",
        "            labels.append(label)\n",
        "    return images, labels\n",
        "\n",
        "categories = ['bikes', 'buses']\n",
        "data_dir = '/content/drive/My Drive/dataset'\n",
        "\n",
        "all_images = []\n",
        "all_labels = []\n",
        "\n",
        "for category in categories:\n",
        "    folder_path = os.path.join(data_dir, category)\n",
        "    images, labels = load_images_from_folder(folder_path)\n",
        "    all_images.extend(images)\n",
        "    all_labels.extend(labels)\n",
        "\n",
        "# Конвертируем в numpy массивы\n",
        "all_images = np.array(all_images)\n",
        "all_labels = np.array(all_labels)\n",
        "\n",
        "# Преобразование строковых меток в числовые\n",
        "label_encoder = LabelEncoder()\n",
        "all_labels = label_encoder.fit_transform(all_labels)\n",
        "\n",
        "# Преобразование меток в one-hot векторы\n",
        "all_labels = to_categorical(all_labels)\n",
        "\n",
        "# Определение и обучение модели\n",
        "model = Sequential([\n",
        "    Conv2D(32, (3, 3), activation='relu', input_shape=(128, 128, 3)),\n",
        "    MaxPooling2D(pool_size=(2, 2)),\n",
        "    Conv2D(64, (3, 3), activation='relu'),\n",
        "    MaxPooling2D(pool_size=(2, 2)),\n",
        "    Conv2D(128, (3, 3), activation='relu'),\n",
        "    MaxPooling2D(pool_size=(2, 2)),\n",
        "    Conv2D(256, (3, 3), activation='relu'),\n",
        "    GlobalAveragePooling2D(),\n",
        "    Dropout(0.5),\n",
        "    Dense(128, activation='relu'),\n",
        "    Dense(len(categories), activation='softmax')  # Количество классов\n",
        "])\n",
        "\n",
        "model.compile(optimizer='adam', loss='categorical_crossentropy', metrics=['accuracy'])\n",
        "model.summary()\n",
        "history = model.fit(all_images, all_labels, epochs=43, validation_split=0.2, batch_size=32)\n",
        "model.save('vehicle_recognition_model.h5')\n"
      ],
      "metadata": {
        "id": "7zjwDc5Oj0Ij",
        "colab": {
          "base_uri": "https://localhost:8080/"
        },
        "outputId": "f8d9951b-847c-4fd9-fd34-62b756481f7a"
      },
      "execution_count": 38,
      "outputs": [
        {
          "output_type": "stream",
          "name": "stdout",
          "text": [
            "Model: \"sequential_5\"\n",
            "_________________________________________________________________\n",
            " Layer (type)                Output Shape              Param #   \n",
            "=================================================================\n",
            " conv2d_16 (Conv2D)          (None, 126, 126, 32)      896       \n",
            "                                                                 \n",
            " max_pooling2d_12 (MaxPooli  (None, 63, 63, 32)        0         \n",
            " ng2D)                                                           \n",
            "                                                                 \n",
            " conv2d_17 (Conv2D)          (None, 61, 61, 64)        18496     \n",
            "                                                                 \n",
            " max_pooling2d_13 (MaxPooli  (None, 30, 30, 64)        0         \n",
            " ng2D)                                                           \n",
            "                                                                 \n",
            " conv2d_18 (Conv2D)          (None, 28, 28, 128)       73856     \n",
            "                                                                 \n",
            " max_pooling2d_14 (MaxPooli  (None, 14, 14, 128)       0         \n",
            " ng2D)                                                           \n",
            "                                                                 \n",
            " conv2d_19 (Conv2D)          (None, 12, 12, 256)       295168    \n",
            "                                                                 \n",
            " global_average_pooling2d_4  (None, 256)               0         \n",
            "  (GlobalAveragePooling2D)                                       \n",
            "                                                                 \n",
            " dropout_6 (Dropout)         (None, 256)               0         \n",
            "                                                                 \n",
            " dense_11 (Dense)            (None, 128)               32896     \n",
            "                                                                 \n",
            " dense_12 (Dense)            (None, 2)                 258       \n",
            "                                                                 \n",
            "=================================================================\n",
            "Total params: 421570 (1.61 MB)\n",
            "Trainable params: 421570 (1.61 MB)\n",
            "Non-trainable params: 0 (0.00 Byte)\n",
            "_________________________________________________________________\n",
            "Epoch 1/43\n",
            "1/1 [==============================] - 2s 2s/step - loss: 0.7207 - accuracy: 0.3333 - val_loss: 0.7396 - val_accuracy: 0.0000e+00\n",
            "Epoch 2/43\n",
            "1/1 [==============================] - 0s 378ms/step - loss: 0.6527 - accuracy: 0.6667 - val_loss: 0.8911 - val_accuracy: 0.0000e+00\n",
            "Epoch 3/43\n",
            "1/1 [==============================] - 0s 382ms/step - loss: 0.6740 - accuracy: 0.6667 - val_loss: 1.1125 - val_accuracy: 0.0000e+00\n",
            "Epoch 4/43\n",
            "1/1 [==============================] - 0s 391ms/step - loss: 0.6698 - accuracy: 0.6667 - val_loss: 1.2783 - val_accuracy: 0.0000e+00\n",
            "Epoch 5/43\n",
            "1/1 [==============================] - 0s 401ms/step - loss: 0.6117 - accuracy: 0.6667 - val_loss: 1.2640 - val_accuracy: 0.0000e+00\n",
            "Epoch 6/43\n",
            "1/1 [==============================] - 0s 430ms/step - loss: 0.6204 - accuracy: 0.6667 - val_loss: 1.2340 - val_accuracy: 0.0000e+00\n",
            "Epoch 7/43\n",
            "1/1 [==============================] - 0s 436ms/step - loss: 0.6237 - accuracy: 0.6667 - val_loss: 1.2167 - val_accuracy: 0.0000e+00\n",
            "Epoch 8/43\n",
            "1/1 [==============================] - 0s 389ms/step - loss: 0.6307 - accuracy: 0.6667 - val_loss: 1.1982 - val_accuracy: 0.0000e+00\n",
            "Epoch 9/43\n",
            "1/1 [==============================] - 0s 433ms/step - loss: 0.5540 - accuracy: 0.6667 - val_loss: 1.2470 - val_accuracy: 0.0000e+00\n",
            "Epoch 10/43\n",
            "1/1 [==============================] - 0s 390ms/step - loss: 0.6195 - accuracy: 0.6667 - val_loss: 1.3186 - val_accuracy: 0.0000e+00\n",
            "Epoch 11/43\n",
            "1/1 [==============================] - 0s 374ms/step - loss: 0.5335 - accuracy: 0.6667 - val_loss: 1.4099 - val_accuracy: 0.0000e+00\n",
            "Epoch 12/43\n",
            "1/1 [==============================] - 0s 472ms/step - loss: 0.5565 - accuracy: 0.6667 - val_loss: 1.3821 - val_accuracy: 0.0000e+00\n",
            "Epoch 13/43\n",
            "1/1 [==============================] - 1s 743ms/step - loss: 0.5171 - accuracy: 0.6667 - val_loss: 1.3289 - val_accuracy: 0.0000e+00\n",
            "Epoch 14/43\n",
            "1/1 [==============================] - 1s 1s/step - loss: 0.4848 - accuracy: 0.6667 - val_loss: 1.2911 - val_accuracy: 0.0000e+00\n",
            "Epoch 15/43\n",
            "1/1 [==============================] - 1s 788ms/step - loss: 0.4679 - accuracy: 0.6667 - val_loss: 1.3169 - val_accuracy: 0.0000e+00\n",
            "Epoch 16/43\n",
            "1/1 [==============================] - 1s 624ms/step - loss: 0.4240 - accuracy: 0.6667 - val_loss: 1.4785 - val_accuracy: 0.0000e+00\n",
            "Epoch 17/43\n",
            "1/1 [==============================] - 1s 604ms/step - loss: 0.3816 - accuracy: 0.6667 - val_loss: 1.7781 - val_accuracy: 0.0000e+00\n",
            "Epoch 18/43\n",
            "1/1 [==============================] - 1s 679ms/step - loss: 0.3536 - accuracy: 0.6667 - val_loss: 1.8048 - val_accuracy: 0.0000e+00\n",
            "Epoch 19/43\n",
            "1/1 [==============================] - 1s 646ms/step - loss: 0.3361 - accuracy: 0.6667 - val_loss: 1.8264 - val_accuracy: 0.0000e+00\n",
            "Epoch 20/43\n",
            "1/1 [==============================] - 1s 526ms/step - loss: 0.3220 - accuracy: 0.7778 - val_loss: 1.9134 - val_accuracy: 0.3333\n",
            "Epoch 21/43\n",
            "1/1 [==============================] - 0s 400ms/step - loss: 0.3032 - accuracy: 0.8889 - val_loss: 2.1333 - val_accuracy: 0.3333\n",
            "Epoch 22/43\n",
            "1/1 [==============================] - 0s 372ms/step - loss: 0.2476 - accuracy: 0.8889 - val_loss: 2.3524 - val_accuracy: 0.3333\n",
            "Epoch 23/43\n",
            "1/1 [==============================] - 0s 379ms/step - loss: 0.2397 - accuracy: 0.8889 - val_loss: 2.5919 - val_accuracy: 0.3333\n",
            "Epoch 24/43\n",
            "1/1 [==============================] - 0s 378ms/step - loss: 0.1738 - accuracy: 1.0000 - val_loss: 2.7791 - val_accuracy: 0.3333\n",
            "Epoch 25/43\n",
            "1/1 [==============================] - 0s 363ms/step - loss: 0.1939 - accuracy: 1.0000 - val_loss: 3.4374 - val_accuracy: 0.3333\n",
            "Epoch 26/43\n",
            "1/1 [==============================] - 0s 373ms/step - loss: 0.1804 - accuracy: 0.8889 - val_loss: 2.9531 - val_accuracy: 0.3333\n",
            "Epoch 27/43\n",
            "1/1 [==============================] - 0s 364ms/step - loss: 0.1228 - accuracy: 1.0000 - val_loss: 2.7503 - val_accuracy: 0.6667\n",
            "Epoch 28/43\n",
            "1/1 [==============================] - 0s 379ms/step - loss: 0.1027 - accuracy: 1.0000 - val_loss: 3.0030 - val_accuracy: 0.6667\n",
            "Epoch 29/43\n",
            "1/1 [==============================] - 0s 376ms/step - loss: 0.0591 - accuracy: 1.0000 - val_loss: 3.8969 - val_accuracy: 0.6667\n",
            "Epoch 30/43\n",
            "1/1 [==============================] - 0s 357ms/step - loss: 0.0496 - accuracy: 1.0000 - val_loss: 5.4771 - val_accuracy: 0.3333\n",
            "Epoch 31/43\n",
            "1/1 [==============================] - 0s 412ms/step - loss: 0.0239 - accuracy: 1.0000 - val_loss: 6.6518 - val_accuracy: 0.3333\n",
            "Epoch 32/43\n",
            "1/1 [==============================] - 0s 414ms/step - loss: 0.0122 - accuracy: 1.0000 - val_loss: 6.1431 - val_accuracy: 0.6667\n",
            "Epoch 33/43\n",
            "1/1 [==============================] - 0s 400ms/step - loss: 0.0093 - accuracy: 1.0000 - val_loss: 5.6902 - val_accuracy: 0.6667\n",
            "Epoch 34/43\n",
            "1/1 [==============================] - 0s 374ms/step - loss: 0.0353 - accuracy: 1.0000 - val_loss: 9.7761 - val_accuracy: 0.3333\n",
            "Epoch 35/43\n",
            "1/1 [==============================] - 0s 364ms/step - loss: 0.0490 - accuracy: 1.0000 - val_loss: 6.0388 - val_accuracy: 0.6667\n",
            "Epoch 36/43\n",
            "1/1 [==============================] - 0s 406ms/step - loss: 0.0089 - accuracy: 1.0000 - val_loss: 4.3249 - val_accuracy: 0.6667\n",
            "Epoch 37/43\n",
            "1/1 [==============================] - 0s 373ms/step - loss: 0.3216 - accuracy: 0.8889 - val_loss: 6.8322 - val_accuracy: 0.6667\n",
            "Epoch 38/43\n",
            "1/1 [==============================] - 0s 374ms/step - loss: 7.3293e-04 - accuracy: 1.0000 - val_loss: 9.6062 - val_accuracy: 0.3333\n",
            "Epoch 39/43\n",
            "1/1 [==============================] - 0s 355ms/step - loss: 7.4803e-04 - accuracy: 1.0000 - val_loss: 14.3021 - val_accuracy: 0.3333\n",
            "Epoch 40/43\n",
            "1/1 [==============================] - 0s 386ms/step - loss: 9.6113e-04 - accuracy: 1.0000 - val_loss: 19.7318 - val_accuracy: 0.3333\n",
            "Epoch 41/43\n",
            "1/1 [==============================] - 0s 371ms/step - loss: 0.3301 - accuracy: 0.8889 - val_loss: 9.3728 - val_accuracy: 0.6667\n",
            "Epoch 42/43\n",
            "1/1 [==============================] - 0s 367ms/step - loss: 2.5605e-04 - accuracy: 1.0000 - val_loss: 5.5716 - val_accuracy: 0.6667\n",
            "Epoch 43/43\n",
            "1/1 [==============================] - 0s 381ms/step - loss: 0.0057 - accuracy: 1.0000 - val_loss: 2.7800 - val_accuracy: 0.6667\n"
          ]
        },
        {
          "output_type": "stream",
          "name": "stderr",
          "text": [
            "/usr/local/lib/python3.10/dist-packages/keras/src/engine/training.py:3103: UserWarning: You are saving your model as an HDF5 file via `model.save()`. This file format is considered legacy. We recommend using instead the native Keras format, e.g. `model.save('my_model.keras')`.\n",
            "  saving_api.save_model(\n"
          ]
        }
      ]
    },
    {
      "cell_type": "code",
      "source": [
        "%%writefile app.py\n",
        "import streamlit as st\n",
        "from tensorflow.keras.models import load_model\n",
        "from tensorflow.keras.preprocessing import image\n",
        "import numpy as np\n",
        "\n",
        "model = load_model('vehicle_recognition_model.h5')\n",
        "\n",
        "categories = ['cars', 'buses', 'bikes', 'planes']\n",
        "\n",
        "st.title(\"Система распознавания транспортных средств\")\n",
        "\n",
        "uploaded_file = st.file_uploader(\"Выберите изображение...\", type=\"jpg\")\n",
        "\n",
        "if uploaded_file is not None:\n",
        "    img = image.load_img(uploaded_file, target_size=(128, 128))\n",
        "    img_array = image.img_to_array(img)\n",
        "    img_array = np.expand_dims(img_array, axis=0) / 255.0\n",
        "\n",
        "    predictions = model.predict(img_array)\n",
        "    predicted_class = categories[np.argmax(predictions)]\n",
        "\n",
        "    st.image(img, caption='Загруженное изображение', use_column_width=True)\n",
        "    st.write(f\"Предсказанный класс: {predicted_class}\")\n",
        "\n"
      ],
      "metadata": {
        "colab": {
          "base_uri": "https://localhost:8080/"
        },
        "id": "YBUk8jk9kQrC",
        "outputId": "dfa6f80d-6ae9-4bc7-b1dd-fecaf6cc4ddc"
      },
      "execution_count": 40,
      "outputs": [
        {
          "output_type": "stream",
          "name": "stdout",
          "text": [
            "Overwriting app.py\n"
          ]
        }
      ]
    },
    {
      "cell_type": "code",
      "source": [
        "!streamlit run app.py & npx localtunnel --port 8501\n",
        "\n"
      ],
      "metadata": {
        "id": "I68twBlUkTb_",
        "colab": {
          "base_uri": "https://localhost:8080/"
        },
        "outputId": "4690e32a-ece3-4663-9982-7c9406494dc7"
      },
      "execution_count": null,
      "outputs": [
        {
          "output_type": "stream",
          "name": "stdout",
          "text": [
            "\n",
            "Collecting usage statistics. To deactivate, set browser.gatherUsageStats to false.\n",
            "\u001b[0m\n",
            "\u001b[0m\n",
            "\u001b[34m\u001b[1m  You can now view your Streamlit app in your browser.\u001b[0m\n",
            "\u001b[0m\n",
            "\u001b[34m  Local URL: \u001b[0m\u001b[1mhttp://localhost:8501\u001b[0m\n",
            "\u001b[34m  Network URL: \u001b[0m\u001b[1mhttp://172.28.0.12:8501\u001b[0m\n",
            "\u001b[34m  External URL: \u001b[0m\u001b[1mhttp://34.75.105.45:8501\u001b[0m\n",
            "\u001b[0m\n",
            "\u001b[K\u001b[?25hnpx: installed 22 in 3.45s\n",
            "your url is: https://six-wasps-care.loca.lt\n",
            "2024-07-08 19:31:24.636048: E external/local_xla/xla/stream_executor/cuda/cuda_dnn.cc:9261] Unable to register cuDNN factory: Attempting to register factory for plugin cuDNN when one has already been registered\n",
            "2024-07-08 19:31:24.636123: E external/local_xla/xla/stream_executor/cuda/cuda_fft.cc:607] Unable to register cuFFT factory: Attempting to register factory for plugin cuFFT when one has already been registered\n",
            "2024-07-08 19:31:24.638557: E external/local_xla/xla/stream_executor/cuda/cuda_blas.cc:1515] Unable to register cuBLAS factory: Attempting to register factory for plugin cuBLAS when one has already been registered\n",
            "2024-07-08 19:31:26.091295: W tensorflow/compiler/tf2tensorrt/utils/py_utils.cc:38] TF-TRT Warning: Could not find TensorRT\n",
            "1/1 [==============================] - 0s 252ms/step\n",
            "1/1 [==============================] - 0s 102ms/step\n",
            "1/1 [==============================] - 0s 102ms/step\n",
            "1/1 [==============================] - 0s 101ms/step\n",
            "WARNING:tensorflow:5 out of the last 5 calls to <function Model.make_predict_function.<locals>.predict_function at 0x79776d711480> triggered tf.function retracing. Tracing is expensive and the excessive number of tracings could be due to (1) creating @tf.function repeatedly in a loop, (2) passing tensors with different shapes, (3) passing Python objects instead of tensors. For (1), please define your @tf.function outside of the loop. For (2), @tf.function has reduce_retracing=True option that can avoid unnecessary retracing. For (3), please refer to https://www.tensorflow.org/guide/function#controlling_retracing and https://www.tensorflow.org/api_docs/python/tf/function for  more details.\n",
            "1/1 [==============================] - 0s 122ms/step\n",
            "WARNING:tensorflow:6 out of the last 6 calls to <function Model.make_predict_function.<locals>.predict_function at 0x79776d711f30> triggered tf.function retracing. Tracing is expensive and the excessive number of tracings could be due to (1) creating @tf.function repeatedly in a loop, (2) passing tensors with different shapes, (3) passing Python objects instead of tensors. For (1), please define your @tf.function outside of the loop. For (2), @tf.function has reduce_retracing=True option that can avoid unnecessary retracing. For (3), please refer to https://www.tensorflow.org/guide/function#controlling_retracing and https://www.tensorflow.org/api_docs/python/tf/function for  more details.\n",
            "1/1 [==============================] - 0s 101ms/step\n",
            "1/1 [==============================] - 0s 170ms/step\n",
            "1/1 [==============================] - 0s 109ms/step\n",
            "1/1 [==============================] - 0s 98ms/step\n",
            "1/1 [==============================] - 0s 105ms/step\n",
            "1/1 [==============================] - 0s 102ms/step\n",
            "1/1 [==============================] - 0s 104ms/step\n"
          ]
        }
      ]
    }
  ]
}